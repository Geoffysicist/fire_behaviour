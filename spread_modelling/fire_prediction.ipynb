{
 "cells": [
  {
   "cell_type": "code",
   "execution_count": 1,
   "source": [
    "import fire_spread as fs\r\n",
    "import pandas as pd\r\n",
    "import datetime as dt\r\n",
    "\r\n",
    "# pd.set_option('display.max_columns', None)"
   ],
   "outputs": [],
   "metadata": {}
  },
  {
   "cell_type": "markdown",
   "source": [
    "# Fire Spread Vector Generation\r\n",
    "\r\n",
    "This is a 'proof of concept' script to generate a table of fire spread parameters and related GIS path vectors (ESRI shapefile) based on the fire spread models outlined in Cruz et al. 2015.\r\n",
    "\r\n",
    "## Rationale\r\n",
    "NSW RFS uses hand drawn and computer generated prediction maps to compliment each other. The philosophy behind the use of hand drawn maps is that it facilitates greater consideration and analysis of the data by FBANs. However, plotting of the data by hand is time consuming and may be more difficult under remote working conditions if there is not easy access to printers.\r\n",
    "\r\n",
    "This model attempts to reach a compromise between 'feel for the data' FBANs achieve when making prediction maps by hand and the desirability of being able to easily digitise the mapsstraight into a GIS. Rather than the isochrons produces by software such as Phoenix and Spark, the approach developed produces a set of vectors (distance nd direction) that describe the predicted path in each time interval. These can be used to inform the on-screen digitising of isochrons. If, in the informed opinion of the FBAN, individual vectors are likely to be in error, these can be adjusted.\r\n",
    "\r\n",
    "Further, the approach used here is similar to the excel spreadsheet developed by Tolhurst in that all the model parameters are explicitly entered by the FBAN.\r\n",
    "\r\n",
    "## Limitations\r\n",
    "\r\n",
    "At this stage only the Cheney grassland/wodland model and the Mk5 forest models have been coded.\r\n",
    "\r\n",
    "## Outputs\r\n",
    "\r\n",
    "Outputs are:\r\n",
    "- table with DateTime, direction, FROS, flank ROS, and vector magnitude (ie the length of he path for the diven time interval). ROS units are km/h. Vector units are m.\r\n",
    "- a simple plot of the predicted path\r\n",
    "- an ESRI shapefile describing vectors of the predicted path for each time period."
   ],
   "metadata": {}
  },
  {
   "cell_type": "markdown",
   "source": [
    "## General model parameters\r\n",
    "\r\n",
    "Weather data are read from a *.csv file with a format consistent with the gridded weather data downloaded from icon. If, in the opinion of the FBAN the eather data need to be adjusted, this should bedone in the cvs file.\r\n",
    "\r\n",
    "The ignition coordinates should be given as Lat, Lon or Easting, Northing and the format should be indicated with an appropriate code: GDA94_LL for lat, lon and MGA94_Zxx for easting, northing where xx represents the mapzone eg MGA94_Z55."
   ],
   "metadata": {}
  },
  {
   "cell_type": "code",
   "execution_count": 2,
   "source": [
    "# general model settings\r\n",
    "weather_fn = '2000-01-08-XX-XX-XX_PointForecast.csv'\r\n",
    "start_date = '20000108'\r\n",
    "start_time = '16:00'\r\n",
    "ignition_date = start_date\r\n",
    "ignition_time = start_time\r\n",
    "ignition_coords = [-34.8350, 148.4186, 'GDA94_LL'] #GDA94_LL or MGA94_Zxx where xx = zone\r\n",
    "duration = 17 #hours\r\n",
    "slope = 0 #but note Cruz et al. for large fires slope effect negligible\r\n",
    "path_output_fn = 'test_grazed'\r\n"
   ],
   "outputs": [],
   "metadata": {}
  },
  {
   "cell_type": "markdown",
   "source": [
    "## Selecting desired models\r\n",
    "\r\n",
    "Select the desired models to run by labelling them 'True' in the code block below. Other models should be labelled 'False'."
   ],
   "metadata": {}
  },
  {
   "cell_type": "code",
   "execution_count": 3,
   "source": [
    "# Select the models you wan to run by assigning them 'True'\r\n",
    "selected_models = {\r\n",
    "    'GRASS_Cheney_98': False,\r\n",
    "    'FOREST_Mk5': True,\r\n",
    "    'FOREST_Vesta': True\r\n",
    "}"
   ],
   "outputs": [],
   "metadata": {}
  },
  {
   "cell_type": "markdown",
   "source": [
    "## Model specific parameters"
   ],
   "metadata": {}
  },
  {
   "cell_type": "code",
   "execution_count": 4,
   "source": [
    "# model specific parameters\r\n",
    "\r\n",
    "# grass state # N - natural, G - grazed, E - eaten out\r\n",
    "#   W - woodland (canopy cover < 30%),\r\n",
    "#   F - Open forest (canopy cover 30-70%, 10-15 m tall)\r\n",
    "grass_state = 'G' \r\n",
    "grass_curing = 95 # per cent should between 20 and 100\r\n",
    "\r\n",
    "# forest mk 5\r\n",
    "fuel_load = 5 # t/ha\r\n",
    "wind_reduction = 3 # Tolhurst's wind reduction factor between 1 - 6\r\n",
    "\r\n",
    "# forest vesta\r\n",
    "fs_params_vesta = {\r\n",
    "    'fhs_surface': 3,\r\n",
    "    'fhs_near_surface': 3,\r\n",
    "    'fhs_elevated': 2,\r\n",
    "    'fuel_height_ns_cm': 25,\r\n",
    "    'fuel_height_e_m': 1.5\r\n",
    "}\r\n",
    "\r\n"
   ],
   "outputs": [],
   "metadata": {}
  },
  {
   "cell_type": "markdown",
   "source": [
    "## Running the model\r\n",
    "The code block below runs the selected models. Note that all the heavy lifting is done by the helper script fire_spread.py"
   ],
   "metadata": {}
  },
  {
   "cell_type": "code",
   "execution_count": 5,
   "source": [
    "########################################\r\n",
    "###### DO NOT EDIT THIS CODE BLOCK #####\r\n",
    "########################################\r\n",
    "model_outputs = fs.run_models(\r\n",
    "    weather_fn,\r\n",
    "    start_date,\r\n",
    "    start_time,\r\n",
    "    duration,\r\n",
    "    slope,\r\n",
    "    selected_models,\r\n",
    "    grass_state,\r\n",
    "    grass_curing,\r\n",
    "    fuel_load,wind_reduction\r\n",
    ")"
   ],
   "outputs": [
    {
     "output_type": "stream",
     "name": "stdout",
     "text": [
      "2 models run in 0:00:00.057323\n"
     ]
    }
   ],
   "metadata": {}
  },
  {
   "cell_type": "markdown",
   "source": [
    "## Output as Tables\r\n",
    "\r\n",
    "Run the code block below to generate tables of the output models"
   ],
   "metadata": {}
  },
  {
   "cell_type": "code",
   "execution_count": 6,
   "source": [
    "# Print tables of the models\r\n",
    "pd.set_option('display.max_rows', None)\r\n",
    "pd.set_option('display.max_columns', None)\r\n",
    "pd.set_option('display.width', 2000)\r\n",
    "pd.set_option('display.float_format', '{:20,.2f}'.format)\r\n",
    "pd.set_option('display.max_colwidth', None)\r\n",
    "for key, val in model_outputs.items():\r\n",
    "    print(key)\r\n",
    "    print(val)\r\n",
    "    print('\\n')"
   ],
   "outputs": [
    {
     "output_type": "stream",
     "name": "stdout",
     "text": [
      "FOREST_Mk5\n",
      "              DateTime        Direction (o)                 FFDI          FROS (km/h)     flank ROS (km/h)  FROS vector (m)\n",
      "0  2000-01-08 16:00:00               120.00               106.71                 0.64                 0.18                0\n",
      "1  2000-01-08 17:00:00                80.00                78.30                 0.47                 0.16              640\n",
      "2  2000-01-08 18:00:00                78.60                81.69                 0.49                 0.17              470\n",
      "3  2000-01-08 19:00:00                80.80                79.36                 0.48                 0.16              490\n",
      "4  2000-01-08 20:00:00                81.50                70.83                 0.42                 0.14              480\n",
      "5  2000-01-08 21:00:00                85.80                44.76                 0.27                 0.13              420\n",
      "6  2000-01-08 22:00:00                81.80                42.92                 0.26                 0.13              270\n",
      "7  2000-01-08 23:00:00                77.70                34.51                 0.21                 0.11              260\n",
      "8  2000-01-09 00:00:00                82.10                19.58                 0.12                 0.08              210\n",
      "9  2000-01-09 01:00:00                69.00                14.07                 0.08                 0.05              120\n",
      "10 2000-01-09 02:00:00                67.30                10.44                 0.06                 0.04               80\n",
      "11 2000-01-09 03:00:00                57.50                 9.55                 0.06                 0.03               60\n",
      "12 2000-01-09 04:00:00                65.70                 6.61                 0.04                 0.02               60\n",
      "13 2000-01-09 05:00:00                68.90                 5.91                 0.04                 0.02               40\n",
      "14 2000-01-09 06:00:00                66.50                 5.23                 0.03                 0.02               40\n",
      "15 2000-01-09 07:00:00                60.00                 5.30                 0.03                 0.02               30\n",
      "16 2000-01-09 08:00:00                40.00                 5.68                 0.03                 0.02               30\n",
      "17 2000-01-09 09:00:00                50.00                 8.20                 0.05                 0.03               30\n",
      "\n",
      "\n",
      "FOREST_Vesta\n",
      "              DateTime        Direction (o)                 FFDI          FROS (km/h)     flank ROS (km/h)  FROS vector (m)\n",
      "0  2000-01-08 16:00:00               120.00               106.71                 0.64                 0.18                0\n",
      "1  2000-01-08 17:00:00                80.00                78.30                 0.47                 0.16              640\n",
      "2  2000-01-08 18:00:00                78.60                81.69                 0.49                 0.17              470\n",
      "3  2000-01-08 19:00:00                80.80                79.36                 0.48                 0.16              490\n",
      "4  2000-01-08 20:00:00                81.50                70.83                 0.42                 0.14              480\n",
      "5  2000-01-08 21:00:00                85.80                44.76                 0.27                 0.13              420\n",
      "6  2000-01-08 22:00:00                81.80                42.92                 0.26                 0.13              270\n",
      "7  2000-01-08 23:00:00                77.70                34.51                 0.21                 0.11              260\n",
      "8  2000-01-09 00:00:00                82.10                19.58                 0.12                 0.08              210\n",
      "9  2000-01-09 01:00:00                69.00                14.07                 0.08                 0.05              120\n",
      "10 2000-01-09 02:00:00                67.30                10.44                 0.06                 0.04               80\n",
      "11 2000-01-09 03:00:00                57.50                 9.55                 0.06                 0.03               60\n",
      "12 2000-01-09 04:00:00                65.70                 6.61                 0.04                 0.02               60\n",
      "13 2000-01-09 05:00:00                68.90                 5.91                 0.04                 0.02               40\n",
      "14 2000-01-09 06:00:00                66.50                 5.23                 0.03                 0.02               40\n",
      "15 2000-01-09 07:00:00                60.00                 5.30                 0.03                 0.02               30\n",
      "16 2000-01-09 08:00:00                40.00                 5.68                 0.03                 0.02               30\n",
      "17 2000-01-09 09:00:00                50.00                 8.20                 0.05                 0.03               30\n",
      "\n",
      "\n"
     ]
    }
   ],
   "metadata": {}
  },
  {
   "cell_type": "markdown",
   "source": [
    "## Generating GIS compatible data\r\n",
    "\r\n",
    "If you want to produce shapefiles for use in a GIS or a simple plot, first run the code block below to generate geodata."
   ],
   "metadata": {}
  },
  {
   "cell_type": "code",
   "execution_count": 7,
   "source": [
    "# do this after printing the models so dont get linestrings\r\n",
    "model_gdfs = fs.get_gdfs(model_outputs, ignition_date, ignition_time, ignition_coords)"
   ],
   "outputs": [],
   "metadata": {}
  },
  {
   "cell_type": "markdown",
   "source": [
    "## Output to shapefiles\r\n",
    "\r\n",
    "to generate shapefiles execute this code block"
   ],
   "metadata": {}
  },
  {
   "cell_type": "code",
   "execution_count": 8,
   "source": [
    "# Save shapefile of the fire path\r\n",
    "fs.save_shapefiles(model_gdfs, path_output_fn)"
   ],
   "outputs": [
    {
     "output_type": "stream",
     "name": "stderr",
     "text": [
      "c:\\Users\\Geoffysicist\\Projects\\fire_behaviour\\spread_modelling\\fire_spread.py:220: UserWarning: Column names longer than 10 characters will be truncated when saved to ESRI Shapefile.\n",
      "  gdf.to_file(f'{output_fn}_{model}.shp')\n"
     ]
    }
   ],
   "metadata": {}
  },
  {
   "cell_type": "markdown",
   "source": [
    "## Simple plot of predicted paths"
   ],
   "metadata": {}
  },
  {
   "cell_type": "code",
   "execution_count": 9,
   "source": [
    "# Show simple plot of the model\r\n",
    "fs.plot_paths(model_gdfs)"
   ],
   "outputs": [
    {
     "output_type": "display_data",
     "data": {
      "image/png": "[encoded data removed]",
      "text/plain": [
       "<Figure size 432x288 with 1 Axes>"
      ]
     },
     "metadata": {
      "needs_background": "light"
     }
    }
   ],
   "metadata": {}
  }
 ],
 "metadata": {
  "orig_nbformat": 4,
  "language_info": {
   "name": "python",
   "version": "3.8.11",
   "mimetype": "text/x-python",
   "codemirror_mode": {
    "name": "ipython",
    "version": 3
   },
   "pygments_lexer": "ipython3",
   "nbconvert_exporter": "python",
   "file_extension": ".py"
  },
  "kernelspec": {
   "name": "python3",
   "display_name": "Python 3.8.11 64-bit ('fire_spread': conda)"
  },
  "interpreter": {
   "hash": "49eeb424f10bc32e64fbc12e3b5c9329748632aad29f8e25962a1792c43516ff"
  }
 },
 "nbformat": 4,
 "nbformat_minor": 2
}