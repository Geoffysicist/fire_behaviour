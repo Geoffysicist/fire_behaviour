{
 "cells": [
  {
   "cell_type": "code",
   "execution_count": 71,
   "source": [
    "import fire_spread as fs\r\n",
    "import pandas as pd\r\n",
    "import datetime as dt\r\n",
    "\r\n",
    "# pd.set_option('display.max_columns', None)"
   ],
   "outputs": [],
   "metadata": {}
  },
  {
   "cell_type": "markdown",
   "source": [
    "# Fire Spread Vector Generation\r\n",
    "\r\n",
    "This is a 'proof of concept' script to generate a table of fire spread parameters and related GIS path vectors (ESRI shapefile) based on the fire spread models outlined in Cruz et al. 2015.\r\n",
    "\r\n",
    "## Rationale\r\n",
    "NSW RFS uses hand drawn and computer generated prediction maps to compliment each other. The philosophy behind the use of hand drawn maps is that it facilitates greater consideration and analysis of the data by FBANs. However, plotting of the data by hand is time consuming and may be more difficult under remote working conditions if there is not easy access to printers.\r\n",
    "\r\n",
    "This model attempts to reach a compromise between 'feel for the data' FBANs achieve when making prediction maps by hand and the desirability of being able to easily digitise the mapsstraight into a GIS. Rather than the isochrons produces by software such as Phoenix and Spark, the approach developed produces a set of vectors (distance nd direction) that describe the predicted path in each time interval. These can be used to inform the on-screen digitising of isochrons. If, in the informed opinion of the FBAN, individual vectors are likely to be in error, these can be adjusted.\r\n",
    "\r\n",
    "Further, the approach used here is similar to the excel spreadsheet developed by Tolhurst in that all the model parameters are explicitly entered by the FBAN.\r\n",
    "\r\n",
    "## Limitations\r\n",
    "\r\n",
    "At this stage only the Cheney grassland/wodland model and the Mk5 forest models have been coded.\r\n",
    "\r\n",
    "## Outputs\r\n",
    "\r\n",
    "Outputs are:\r\n",
    "- table with DateTime, direction, FROS, flank ROS, and vector magnitude (ie the length of he path for the diven time interval). ROS units are km/h. Vector units are m.\r\n",
    "- a simple plot of the predicted path\r\n",
    "- an ESRI shapefile describing vectors of the predicted path for each time period."
   ],
   "metadata": {}
  },
  {
   "cell_type": "markdown",
   "source": [
    "## General model parameters\r\n",
    "\r\n",
    "Weather data are read from a *.csv file with a format consistent with the gridded weather data downloaded from icon. If, in the opinion of the FBAN the eather data need to be adjusted, this should bedone in the cvs file.\r\n",
    "\r\n",
    "The ignition coordinates should be given as Lat, Lon or Easting, Northing and the format should be indicated with an appropriate code: GDA94_LL for lat, lon and MGA94_Zxx for easting, northing where xx represents the mapzone eg MGA94_Z55."
   ],
   "metadata": {}
  },
  {
   "cell_type": "code",
   "execution_count": 72,
   "source": [
    "# general model settings\r\n",
    "weather_fn = '2000-01-08-XX-XX-XX_PointForecast.csv'\r\n",
    "start_date = '20000108'\r\n",
    "start_time = '16:00'\r\n",
    "ignition_date = start_date\r\n",
    "ignition_time = start_time\r\n",
    "ignition_coords = [-34.8350, 148.4186, 'GDA94_LL'] #GDA94_LL or MGA94_Zxx where xx = zone\r\n",
    "duration = 17 #hours\r\n",
    "slope = 0 #but note Cruz et al. for large fires slope effect negligible\r\n",
    "path_output_fn = 'test1'\r\n"
   ],
   "outputs": [],
   "metadata": {}
  },
  {
   "cell_type": "markdown",
   "source": [
    "## Selecting desired models\r\n",
    "\r\n",
    "Select the desired models to run by labelling them 'True' in the code block below. Other models should be labelled 'False'."
   ],
   "metadata": {}
  },
  {
   "cell_type": "code",
   "execution_count": 73,
   "source": [
    "# Select the models you wan to run by assigning them 'True'\r\n",
    "selected_models = {\r\n",
    "    'GRASS_Cheney_98': True,\r\n",
    "    'FOREST_Mk5': False\r\n",
    "}"
   ],
   "outputs": [],
   "metadata": {}
  },
  {
   "cell_type": "markdown",
   "source": [
    "## Model specific parameters"
   ],
   "metadata": {}
  },
  {
   "cell_type": "code",
   "execution_count": 74,
   "source": [
    "# model specific data\r\n",
    "# grass state # N - natural, G - grazed, E - eaten out\r\n",
    "#   W - woodland (canopy cover < 30%),\r\n",
    "#   F - Open forest (canopy cover 30-70%, 10-15 m tall)\r\n",
    "grass_state = 'W' \r\n",
    "grass_curing = 95 # per cent should between 20 and 100\r\n",
    "\r\n",
    "#forest\r\n",
    "fuel_load = 5 # t/ha\r\n",
    "wind_reduction = 3 # Tolhurst's wind reduction factor between 1 - 6\r\n"
   ],
   "outputs": [],
   "metadata": {}
  },
  {
   "cell_type": "markdown",
   "source": [
    "## Running the model\r\n",
    "The code block below runs the selected models. Note that all the heavy lifting is done by the helper script fire_spread.py"
   ],
   "metadata": {}
  },
  {
   "cell_type": "code",
   "execution_count": 75,
   "source": [
    "########################################\r\n",
    "###### DO NOT EDIT THIS CODE BLOCK #####\r\n",
    "########################################\r\n",
    "model_outputs = fs.run_models(\r\n",
    "    weather_fn,\r\n",
    "    start_date,\r\n",
    "    start_time,\r\n",
    "    duration,\r\n",
    "    slope,\r\n",
    "    selected_models,\r\n",
    "    grass_state,\r\n",
    "    grass_curing,\r\n",
    "    fuel_load,wind_reduction\r\n",
    ")"
   ],
   "outputs": [
    {
     "output_type": "stream",
     "name": "stdout",
     "text": [
      "1 models run in 0:00:00.031591\n"
     ]
    }
   ],
   "metadata": {}
  },
  {
   "cell_type": "markdown",
   "source": [
    "## Output as Tables\r\n",
    "\r\n",
    "Run the code block below to generate tables of the output models"
   ],
   "metadata": {}
  },
  {
   "cell_type": "code",
   "execution_count": 76,
   "source": [
    "# Print tables of the models\r\n",
    "pd.set_option('display.max_rows', None)\r\n",
    "pd.set_option('display.max_columns', None)\r\n",
    "pd.set_option('display.width', 2000)\r\n",
    "pd.set_option('display.float_format', '{:20,.2f}'.format)\r\n",
    "pd.set_option('display.max_colwidth', None)\r\n",
    "for key, val in model_outputs.items():\r\n",
    "    print(key)\r\n",
    "    print(val)\r\n",
    "    print('\\n')"
   ],
   "outputs": [
    {
     "output_type": "stream",
     "name": "stdout",
     "text": [
      "GRASS_Cheney_98\n",
      "              DateTime        Direction (o)          FROS (km/h)     flank ROS (km/h)  FROS Vector (m)\n",
      "0  2000-01-08 16:00:00               120.00                 8.44                 0.98             8440\n",
      "1  2000-01-08 17:00:00                80.00                 6.80                 0.93             6800\n",
      "2  2000-01-08 18:00:00                78.60                 7.02                 0.94             7020\n",
      "3  2000-01-08 19:00:00                80.80                 6.92                 0.93             6920\n",
      "4  2000-01-08 20:00:00                81.50                 6.59                 0.86             6590\n",
      "5  2000-01-08 21:00:00                85.80                 4.23                 0.84             4230\n",
      "6  2000-01-08 22:00:00                81.80                 3.99                 0.84             3990\n",
      "7  2000-01-08 23:00:00                77.70                 3.39                 0.76             3390\n",
      "8  2000-01-09 00:00:00                82.10                 1.91                 0.64             1910\n",
      "9  2000-01-09 01:00:00                69.00                 1.73                 0.54             1730\n",
      "10 2000-01-09 02:00:00                67.30                 1.54                 0.47             1540\n",
      "11 2000-01-09 03:00:00                57.50                 1.80                 0.41             1800\n",
      "12 2000-01-09 04:00:00                65.70                 1.32                 0.36             1320\n",
      "13 2000-01-09 05:00:00                68.90                 1.21                 0.34             1210\n",
      "14 2000-01-09 06:00:00                66.50                 1.17                 0.32             1170\n",
      "15 2000-01-09 07:00:00                60.00                 1.42                 0.30             1420\n",
      "16 2000-01-09 08:00:00                40.00                 1.34                 0.33             1340\n",
      "17 2000-01-09 09:00:00                50.00                 1.47                 0.38                0\n",
      "\n",
      "\n"
     ]
    }
   ],
   "metadata": {}
  },
  {
   "cell_type": "markdown",
   "source": [
    "## Generating GIS compatible data\r\n",
    "\r\n",
    "If you want to produce shapefiles for use in a GIS or a simple plot, first run the code block below to generate geodata."
   ],
   "metadata": {}
  },
  {
   "cell_type": "code",
   "execution_count": 77,
   "source": [
    "# do this after printing the models so dont get linestrings\r\n",
    "model_gdfs = fs.get_gdfs(model_outputs, ignition_date, ignition_time, ignition_coords)"
   ],
   "outputs": [],
   "metadata": {}
  },
  {
   "cell_type": "markdown",
   "source": [
    "## Output to shapefiles\r\n",
    "\r\n",
    "to generate shapefiles execute this code block"
   ],
   "metadata": {}
  },
  {
   "cell_type": "code",
   "execution_count": 78,
   "source": [
    "# Save shapefile of the fire path\r\n",
    "fs.save_shapefiles(model_gdfs, path_output_fn)"
   ],
   "outputs": [
    {
     "output_type": "stream",
     "name": "stderr",
     "text": [
      "c:\\Users\\Geoffysicist\\Projects\\fire_behaviour\\spread_modelling\\fire_spread.py:304: UserWarning: Column names longer than 10 characters will be truncated when saved to ESRI Shapefile.\n",
      "  gdf.to_file(f'{output_fn}_{model}.shp')\n"
     ]
    }
   ],
   "metadata": {}
  },
  {
   "cell_type": "markdown",
   "source": [
    "## Simple plot of predicted paths"
   ],
   "metadata": {}
  },
  {
   "cell_type": "code",
   "execution_count": 79,
   "source": [
    "# Show simple plot of the model\r\n",
    "fs.plot_paths(model_gdfs)"
   ],
   "outputs": [
    {
     "output_type": "display_data",
     "data": {
      "text/plain": [
       "<Figure size 432x288 with 1 Axes>"
      ],
      "image/svg+xml": "<?xml version=\"1.0\" encoding=\"utf-8\" standalone=\"no\"?>\r\n<!DOCTYPE svg PUBLIC \"-//W3C//DTD SVG 1.1//EN\"\r\n  \"http://www.w3.org/Graphics/SVG/1.1/DTD/svg11.dtd\">\r\n<svg height=\"87.615969pt\" version=\"1.1\" viewBox=\"0 0 393.207813 87.615969\" width=\"393.207813pt\" xmlns=\"http://www.w3.org/2000/svg\" xmlns:xlink=\"http://www.w3.org/1999/xlink\">\r\n <metadata>\r\n  <rdf:RDF xmlns:cc=\"http://creativecommons.org/ns#\" xmlns:dc=\"http://purl.org/dc/elements/1.1/\" xmlns:rdf=\"http://www.w3.org/1999/02/22-rdf-syntax-ns#\">\r\n   <cc:Work>\r\n    <dc:type rdf:resource=\"http://purl.org/dc/dcmitype/StillImage\"/>\r\n    <dc:date>2021-09-04T22:47:26.085162</dc:date>\r\n    <dc:format>image/svg+xml</dc:format>\r\n    <dc:creator>\r\n     <cc:Agent>\r\n      <dc:title>Matplotlib v3.4.2, https://matplotlib.org/</dc:title>\r\n     </cc:Agent>\r\n    </dc:creator>\r\n   </cc:Work>\r\n  </rdf:RDF>\r\n </metadata>\r\n <defs>\r\n  <style type=\"text/css\">*{stroke-linecap:butt;stroke-linejoin:round;}</style>\r\n </defs>\r\n <g id=\"figure_1\">\r\n  <g id=\"patch_1\">\r\n   <path d=\"M 0 87.615969 \r\nL 393.207813 87.615969 \r\nL 393.207813 0 \r\nL 0 0 \r\nz\r\n\" style=\"fill:none;\"/>\r\n  </g>\r\n  <g id=\"axes_1\">\r\n   <g id=\"patch_2\">\r\n    <path d=\"M 51.207813 63.737844 \r\nL 386.007812 63.737844 \r\nL 386.007812 7.2 \r\nL 51.207813 7.2 \r\nz\r\n\" style=\"fill:#ffffff;\"/>\r\n   </g>\r\n   <g id=\"matplotlib.axis_1\">\r\n    <g id=\"xtick_1\">\r\n     <g id=\"line2d_1\">\r\n      <defs>\r\n       <path d=\"M 0 0 \r\nL 0 3.5 \r\n\" id=\"m6b3a50dd20\" style=\"stroke:#000000;stroke-width:0.8;\"/>\r\n      </defs>\r\n      <g>\r\n       <use style=\"stroke:#000000;stroke-width:0.8;\" x=\"57.470099\" xlink:href=\"#m6b3a50dd20\" y=\"63.737844\"/>\r\n      </g>\r\n     </g>\r\n     <g id=\"text_1\">\r\n      <!-- 148.4 -->\r\n      <g transform=\"translate(43.156037 78.336282)scale(0.1 -0.1)\">\r\n       <defs>\r\n        <path d=\"M 794 531 \r\nL 1825 531 \r\nL 1825 4091 \r\nL 703 3866 \r\nL 703 4441 \r\nL 1819 4666 \r\nL 2450 4666 \r\nL 2450 531 \r\nL 3481 531 \r\nL 3481 0 \r\nL 794 0 \r\nL 794 531 \r\nz\r\n\" id=\"DejaVuSans-31\" transform=\"scale(0.015625)\"/>\r\n        <path d=\"M 2419 4116 \r\nL 825 1625 \r\nL 2419 1625 \r\nL 2419 4116 \r\nz\r\nM 2253 4666 \r\nL 3047 4666 \r\nL 3047 1625 \r\nL 3713 1625 \r\nL 3713 1100 \r\nL 3047 1100 \r\nL 3047 0 \r\nL 2419 0 \r\nL 2419 1100 \r\nL 313 1100 \r\nL 313 1709 \r\nL 2253 4666 \r\nz\r\n\" id=\"DejaVuSans-34\" transform=\"scale(0.015625)\"/>\r\n        <path d=\"M 2034 2216 \r\nQ 1584 2216 1326 1975 \r\nQ 1069 1734 1069 1313 \r\nQ 1069 891 1326 650 \r\nQ 1584 409 2034 409 \r\nQ 2484 409 2743 651 \r\nQ 3003 894 3003 1313 \r\nQ 3003 1734 2745 1975 \r\nQ 2488 2216 2034 2216 \r\nz\r\nM 1403 2484 \r\nQ 997 2584 770 2862 \r\nQ 544 3141 544 3541 \r\nQ 544 4100 942 4425 \r\nQ 1341 4750 2034 4750 \r\nQ 2731 4750 3128 4425 \r\nQ 3525 4100 3525 3541 \r\nQ 3525 3141 3298 2862 \r\nQ 3072 2584 2669 2484 \r\nQ 3125 2378 3379 2068 \r\nQ 3634 1759 3634 1313 \r\nQ 3634 634 3220 271 \r\nQ 2806 -91 2034 -91 \r\nQ 1263 -91 848 271 \r\nQ 434 634 434 1313 \r\nQ 434 1759 690 2068 \r\nQ 947 2378 1403 2484 \r\nz\r\nM 1172 3481 \r\nQ 1172 3119 1398 2916 \r\nQ 1625 2713 2034 2713 \r\nQ 2441 2713 2670 2916 \r\nQ 2900 3119 2900 3481 \r\nQ 2900 3844 2670 4047 \r\nQ 2441 4250 2034 4250 \r\nQ 1625 4250 1398 4047 \r\nQ 1172 3844 1172 3481 \r\nz\r\n\" id=\"DejaVuSans-38\" transform=\"scale(0.015625)\"/>\r\n        <path d=\"M 684 794 \r\nL 1344 794 \r\nL 1344 0 \r\nL 684 0 \r\nL 684 794 \r\nz\r\n\" id=\"DejaVuSans-2e\" transform=\"scale(0.015625)\"/>\r\n       </defs>\r\n       <use xlink:href=\"#DejaVuSans-31\"/>\r\n       <use x=\"63.623047\" xlink:href=\"#DejaVuSans-34\"/>\r\n       <use x=\"127.246094\" xlink:href=\"#DejaVuSans-38\"/>\r\n       <use x=\"190.869141\" xlink:href=\"#DejaVuSans-2e\"/>\r\n       <use x=\"222.65625\" xlink:href=\"#DejaVuSans-34\"/>\r\n      </g>\r\n     </g>\r\n    </g>\r\n    <g id=\"xtick_2\">\r\n     <g id=\"line2d_2\">\r\n      <g>\r\n       <use style=\"stroke:#000000;stroke-width:0.8;\" x=\"105.620072\" xlink:href=\"#m6b3a50dd20\" y=\"63.737844\"/>\r\n      </g>\r\n     </g>\r\n     <g id=\"text_2\">\r\n      <!-- 148.5 -->\r\n      <g transform=\"translate(91.306009 78.336282)scale(0.1 -0.1)\">\r\n       <defs>\r\n        <path d=\"M 691 4666 \r\nL 3169 4666 \r\nL 3169 4134 \r\nL 1269 4134 \r\nL 1269 2991 \r\nQ 1406 3038 1543 3061 \r\nQ 1681 3084 1819 3084 \r\nQ 2600 3084 3056 2656 \r\nQ 3513 2228 3513 1497 \r\nQ 3513 744 3044 326 \r\nQ 2575 -91 1722 -91 \r\nQ 1428 -91 1123 -41 \r\nQ 819 9 494 109 \r\nL 494 744 \r\nQ 775 591 1075 516 \r\nQ 1375 441 1709 441 \r\nQ 2250 441 2565 725 \r\nQ 2881 1009 2881 1497 \r\nQ 2881 1984 2565 2268 \r\nQ 2250 2553 1709 2553 \r\nQ 1456 2553 1204 2497 \r\nQ 953 2441 691 2322 \r\nL 691 4666 \r\nz\r\n\" id=\"DejaVuSans-35\" transform=\"scale(0.015625)\"/>\r\n       </defs>\r\n       <use xlink:href=\"#DejaVuSans-31\"/>\r\n       <use x=\"63.623047\" xlink:href=\"#DejaVuSans-34\"/>\r\n       <use x=\"127.246094\" xlink:href=\"#DejaVuSans-38\"/>\r\n       <use x=\"190.869141\" xlink:href=\"#DejaVuSans-2e\"/>\r\n       <use x=\"222.65625\" xlink:href=\"#DejaVuSans-35\"/>\r\n      </g>\r\n     </g>\r\n    </g>\r\n    <g id=\"xtick_3\">\r\n     <g id=\"line2d_3\">\r\n      <g>\r\n       <use style=\"stroke:#000000;stroke-width:0.8;\" x=\"153.770044\" xlink:href=\"#m6b3a50dd20\" y=\"63.737844\"/>\r\n      </g>\r\n     </g>\r\n     <g id=\"text_3\">\r\n      <!-- 148.6 -->\r\n      <g transform=\"translate(139.455982 78.336282)scale(0.1 -0.1)\">\r\n       <defs>\r\n        <path d=\"M 2113 2584 \r\nQ 1688 2584 1439 2293 \r\nQ 1191 2003 1191 1497 \r\nQ 1191 994 1439 701 \r\nQ 1688 409 2113 409 \r\nQ 2538 409 2786 701 \r\nQ 3034 994 3034 1497 \r\nQ 3034 2003 2786 2293 \r\nQ 2538 2584 2113 2584 \r\nz\r\nM 3366 4563 \r\nL 3366 3988 \r\nQ 3128 4100 2886 4159 \r\nQ 2644 4219 2406 4219 \r\nQ 1781 4219 1451 3797 \r\nQ 1122 3375 1075 2522 \r\nQ 1259 2794 1537 2939 \r\nQ 1816 3084 2150 3084 \r\nQ 2853 3084 3261 2657 \r\nQ 3669 2231 3669 1497 \r\nQ 3669 778 3244 343 \r\nQ 2819 -91 2113 -91 \r\nQ 1303 -91 875 529 \r\nQ 447 1150 447 2328 \r\nQ 447 3434 972 4092 \r\nQ 1497 4750 2381 4750 \r\nQ 2619 4750 2861 4703 \r\nQ 3103 4656 3366 4563 \r\nz\r\n\" id=\"DejaVuSans-36\" transform=\"scale(0.015625)\"/>\r\n       </defs>\r\n       <use xlink:href=\"#DejaVuSans-31\"/>\r\n       <use x=\"63.623047\" xlink:href=\"#DejaVuSans-34\"/>\r\n       <use x=\"127.246094\" xlink:href=\"#DejaVuSans-38\"/>\r\n       <use x=\"190.869141\" xlink:href=\"#DejaVuSans-2e\"/>\r\n       <use x=\"222.65625\" xlink:href=\"#DejaVuSans-36\"/>\r\n      </g>\r\n     </g>\r\n    </g>\r\n    <g id=\"xtick_4\">\r\n     <g id=\"line2d_4\">\r\n      <g>\r\n       <use style=\"stroke:#000000;stroke-width:0.8;\" x=\"201.920016\" xlink:href=\"#m6b3a50dd20\" y=\"63.737844\"/>\r\n      </g>\r\n     </g>\r\n     <g id=\"text_4\">\r\n      <!-- 148.7 -->\r\n      <g transform=\"translate(187.605954 78.336282)scale(0.1 -0.1)\">\r\n       <defs>\r\n        <path d=\"M 525 4666 \r\nL 3525 4666 \r\nL 3525 4397 \r\nL 1831 0 \r\nL 1172 0 \r\nL 2766 4134 \r\nL 525 4134 \r\nL 525 4666 \r\nz\r\n\" id=\"DejaVuSans-37\" transform=\"scale(0.015625)\"/>\r\n       </defs>\r\n       <use xlink:href=\"#DejaVuSans-31\"/>\r\n       <use x=\"63.623047\" xlink:href=\"#DejaVuSans-34\"/>\r\n       <use x=\"127.246094\" xlink:href=\"#DejaVuSans-38\"/>\r\n       <use x=\"190.869141\" xlink:href=\"#DejaVuSans-2e\"/>\r\n       <use x=\"222.65625\" xlink:href=\"#DejaVuSans-37\"/>\r\n      </g>\r\n     </g>\r\n    </g>\r\n    <g id=\"xtick_5\">\r\n     <g id=\"line2d_5\">\r\n      <g>\r\n       <use style=\"stroke:#000000;stroke-width:0.8;\" x=\"250.069989\" xlink:href=\"#m6b3a50dd20\" y=\"63.737844\"/>\r\n      </g>\r\n     </g>\r\n     <g id=\"text_5\">\r\n      <!-- 148.8 -->\r\n      <g transform=\"translate(235.755926 78.336282)scale(0.1 -0.1)\">\r\n       <use xlink:href=\"#DejaVuSans-31\"/>\r\n       <use x=\"63.623047\" xlink:href=\"#DejaVuSans-34\"/>\r\n       <use x=\"127.246094\" xlink:href=\"#DejaVuSans-38\"/>\r\n       <use x=\"190.869141\" xlink:href=\"#DejaVuSans-2e\"/>\r\n       <use x=\"222.65625\" xlink:href=\"#DejaVuSans-38\"/>\r\n      </g>\r\n     </g>\r\n    </g>\r\n    <g id=\"xtick_6\">\r\n     <g id=\"line2d_6\">\r\n      <g>\r\n       <use style=\"stroke:#000000;stroke-width:0.8;\" x=\"298.219961\" xlink:href=\"#m6b3a50dd20\" y=\"63.737844\"/>\r\n      </g>\r\n     </g>\r\n     <g id=\"text_6\">\r\n      <!-- 148.9 -->\r\n      <g transform=\"translate(283.905899 78.336282)scale(0.1 -0.1)\">\r\n       <defs>\r\n        <path d=\"M 703 97 \r\nL 703 672 \r\nQ 941 559 1184 500 \r\nQ 1428 441 1663 441 \r\nQ 2288 441 2617 861 \r\nQ 2947 1281 2994 2138 \r\nQ 2813 1869 2534 1725 \r\nQ 2256 1581 1919 1581 \r\nQ 1219 1581 811 2004 \r\nQ 403 2428 403 3163 \r\nQ 403 3881 828 4315 \r\nQ 1253 4750 1959 4750 \r\nQ 2769 4750 3195 4129 \r\nQ 3622 3509 3622 2328 \r\nQ 3622 1225 3098 567 \r\nQ 2575 -91 1691 -91 \r\nQ 1453 -91 1209 -44 \r\nQ 966 3 703 97 \r\nz\r\nM 1959 2075 \r\nQ 2384 2075 2632 2365 \r\nQ 2881 2656 2881 3163 \r\nQ 2881 3666 2632 3958 \r\nQ 2384 4250 1959 4250 \r\nQ 1534 4250 1286 3958 \r\nQ 1038 3666 1038 3163 \r\nQ 1038 2656 1286 2365 \r\nQ 1534 2075 1959 2075 \r\nz\r\n\" id=\"DejaVuSans-39\" transform=\"scale(0.015625)\"/>\r\n       </defs>\r\n       <use xlink:href=\"#DejaVuSans-31\"/>\r\n       <use x=\"63.623047\" xlink:href=\"#DejaVuSans-34\"/>\r\n       <use x=\"127.246094\" xlink:href=\"#DejaVuSans-38\"/>\r\n       <use x=\"190.869141\" xlink:href=\"#DejaVuSans-2e\"/>\r\n       <use x=\"222.65625\" xlink:href=\"#DejaVuSans-39\"/>\r\n      </g>\r\n     </g>\r\n    </g>\r\n    <g id=\"xtick_7\">\r\n     <g id=\"line2d_7\">\r\n      <g>\r\n       <use style=\"stroke:#000000;stroke-width:0.8;\" x=\"346.369933\" xlink:href=\"#m6b3a50dd20\" y=\"63.737844\"/>\r\n      </g>\r\n     </g>\r\n     <g id=\"text_7\">\r\n      <!-- 149.0 -->\r\n      <g transform=\"translate(332.055871 78.336282)scale(0.1 -0.1)\">\r\n       <defs>\r\n        <path d=\"M 2034 4250 \r\nQ 1547 4250 1301 3770 \r\nQ 1056 3291 1056 2328 \r\nQ 1056 1369 1301 889 \r\nQ 1547 409 2034 409 \r\nQ 2525 409 2770 889 \r\nQ 3016 1369 3016 2328 \r\nQ 3016 3291 2770 3770 \r\nQ 2525 4250 2034 4250 \r\nz\r\nM 2034 4750 \r\nQ 2819 4750 3233 4129 \r\nQ 3647 3509 3647 2328 \r\nQ 3647 1150 3233 529 \r\nQ 2819 -91 2034 -91 \r\nQ 1250 -91 836 529 \r\nQ 422 1150 422 2328 \r\nQ 422 3509 836 4129 \r\nQ 1250 4750 2034 4750 \r\nz\r\n\" id=\"DejaVuSans-30\" transform=\"scale(0.015625)\"/>\r\n       </defs>\r\n       <use xlink:href=\"#DejaVuSans-31\"/>\r\n       <use x=\"63.623047\" xlink:href=\"#DejaVuSans-34\"/>\r\n       <use x=\"127.246094\" xlink:href=\"#DejaVuSans-39\"/>\r\n       <use x=\"190.869141\" xlink:href=\"#DejaVuSans-2e\"/>\r\n       <use x=\"222.65625\" xlink:href=\"#DejaVuSans-30\"/>\r\n      </g>\r\n     </g>\r\n    </g>\r\n   </g>\r\n   <g id=\"matplotlib.axis_2\">\r\n    <g id=\"ytick_1\">\r\n     <g id=\"line2d_8\">\r\n      <defs>\r\n       <path d=\"M 0 0 \r\nL -3.5 0 \r\n\" id=\"m62190dab51\" style=\"stroke:#000000;stroke-width:0.8;\"/>\r\n      </defs>\r\n      <g>\r\n       <use style=\"stroke:#000000;stroke-width:0.8;\" x=\"51.207813\" xlink:href=\"#m62190dab51\" y=\"45.96443\"/>\r\n      </g>\r\n     </g>\r\n     <g id=\"text_8\">\r\n      <!-- −34.85 -->\r\n      <g transform=\"translate(7.2 49.763649)scale(0.1 -0.1)\">\r\n       <defs>\r\n        <path d=\"M 678 2272 \r\nL 4684 2272 \r\nL 4684 1741 \r\nL 678 1741 \r\nL 678 2272 \r\nz\r\n\" id=\"DejaVuSans-2212\" transform=\"scale(0.015625)\"/>\r\n        <path d=\"M 2597 2516 \r\nQ 3050 2419 3304 2112 \r\nQ 3559 1806 3559 1356 \r\nQ 3559 666 3084 287 \r\nQ 2609 -91 1734 -91 \r\nQ 1441 -91 1130 -33 \r\nQ 819 25 488 141 \r\nL 488 750 \r\nQ 750 597 1062 519 \r\nQ 1375 441 1716 441 \r\nQ 2309 441 2620 675 \r\nQ 2931 909 2931 1356 \r\nQ 2931 1769 2642 2001 \r\nQ 2353 2234 1838 2234 \r\nL 1294 2234 \r\nL 1294 2753 \r\nL 1863 2753 \r\nQ 2328 2753 2575 2939 \r\nQ 2822 3125 2822 3475 \r\nQ 2822 3834 2567 4026 \r\nQ 2313 4219 1838 4219 \r\nQ 1578 4219 1281 4162 \r\nQ 984 4106 628 3988 \r\nL 628 4550 \r\nQ 988 4650 1302 4700 \r\nQ 1616 4750 1894 4750 \r\nQ 2613 4750 3031 4423 \r\nQ 3450 4097 3450 3541 \r\nQ 3450 3153 3228 2886 \r\nQ 3006 2619 2597 2516 \r\nz\r\n\" id=\"DejaVuSans-33\" transform=\"scale(0.015625)\"/>\r\n       </defs>\r\n       <use xlink:href=\"#DejaVuSans-2212\"/>\r\n       <use x=\"83.789062\" xlink:href=\"#DejaVuSans-33\"/>\r\n       <use x=\"147.412109\" xlink:href=\"#DejaVuSans-34\"/>\r\n       <use x=\"211.035156\" xlink:href=\"#DejaVuSans-2e\"/>\r\n       <use x=\"242.822266\" xlink:href=\"#DejaVuSans-38\"/>\r\n       <use x=\"306.445312\" xlink:href=\"#DejaVuSans-35\"/>\r\n      </g>\r\n     </g>\r\n    </g>\r\n    <g id=\"ytick_2\">\r\n     <g id=\"line2d_9\">\r\n      <g>\r\n       <use style=\"stroke:#000000;stroke-width:0.8;\" x=\"51.207813\" xlink:href=\"#m62190dab51\" y=\"16.634352\"/>\r\n      </g>\r\n     </g>\r\n     <g id=\"text_9\">\r\n      <!-- −34.80 -->\r\n      <g transform=\"translate(7.2 20.433571)scale(0.1 -0.1)\">\r\n       <use xlink:href=\"#DejaVuSans-2212\"/>\r\n       <use x=\"83.789062\" xlink:href=\"#DejaVuSans-33\"/>\r\n       <use x=\"147.412109\" xlink:href=\"#DejaVuSans-34\"/>\r\n       <use x=\"211.035156\" xlink:href=\"#DejaVuSans-2e\"/>\r\n       <use x=\"242.822266\" xlink:href=\"#DejaVuSans-38\"/>\r\n       <use x=\"306.445312\" xlink:href=\"#DejaVuSans-30\"/>\r\n      </g>\r\n     </g>\r\n    </g>\r\n   </g>\r\n   <g id=\"LineCollection_1\">\r\n    <path clip-path=\"url(#p33c04f888c)\" d=\"M 66.425994 37.165407 \r\nL 103.797741 61.167942 \r\n\" style=\"fill:none;stroke:#1f77b4;stroke-width:1.5;\"/>\r\n    <path clip-path=\"url(#p33c04f888c)\" d=\"M 103.797741 61.167942 \r\nL 139.244428 56.522326 \r\n\" style=\"fill:none;stroke:#1f77b4;stroke-width:1.5;\"/>\r\n    <path clip-path=\"url(#p33c04f888c)\" d=\"M 139.244428 56.522326 \r\nL 175.705627 50.8005 \r\n\" style=\"fill:none;stroke:#1f77b4;stroke-width:1.5;\"/>\r\n    <path clip-path=\"url(#p33c04f888c)\" d=\"M 175.705627 50.8005 \r\nL 211.829608 46.520894 \r\n\" style=\"fill:none;stroke:#1f77b4;stroke-width:1.5;\"/>\r\n    <path clip-path=\"url(#p33c04f888c)\" d=\"M 211.829608 46.520894 \r\nL 246.276385 42.840451 \r\n\" style=\"fill:none;stroke:#1f77b4;stroke-width:1.5;\"/>\r\n    <path clip-path=\"url(#p33c04f888c)\" d=\"M 246.276385 42.840451 \r\nL 268.499527 42.140557 \r\n\" style=\"fill:none;stroke:#1f77b4;stroke-width:1.5;\"/>\r\n    <path clip-path=\"url(#p33c04f888c)\" d=\"M 268.499527 42.140557 \r\nL 289.366053 40.000149 \r\n\" style=\"fill:none;stroke:#1f77b4;stroke-width:1.5;\"/>\r\n    <path clip-path=\"url(#p33c04f888c)\" d=\"M 289.366053 40.000149 \r\nL 306.918244 36.906316 \r\n\" style=\"fill:none;stroke:#1f77b4;stroke-width:1.5;\"/>\r\n    <path clip-path=\"url(#p33c04f888c)\" d=\"M 306.918244 36.906316 \r\nL 316.906965 35.929587 \r\n\" style=\"fill:none;stroke:#1f77b4;stroke-width:1.5;\"/>\r\n    <path clip-path=\"url(#p33c04f888c)\" d=\"M 316.906965 35.929587 \r\nL 325.521419 33.008223 \r\n\" style=\"fill:none;stroke:#1f77b4;stroke-width:1.5;\"/>\r\n    <path clip-path=\"url(#p33c04f888c)\" d=\"M 325.521419 33.008223 \r\nL 333.105476 30.175777 \r\n\" style=\"fill:none;stroke:#1f77b4;stroke-width:1.5;\"/>\r\n    <path clip-path=\"url(#p33c04f888c)\" d=\"M 333.105476 30.175777 \r\nL 341.281855 25.39451 \r\n\" style=\"fill:none;stroke:#1f77b4;stroke-width:1.5;\"/>\r\n    <path clip-path=\"url(#p33c04f888c)\" d=\"M 341.281855 25.39451 \r\nL 347.713674 22.782848 \r\n\" style=\"fill:none;stroke:#1f77b4;stroke-width:1.5;\"/>\r\n    <path clip-path=\"url(#p33c04f888c)\" d=\"M 347.713674 22.782848 \r\nL 353.728448 20.724443 \r\n\" style=\"fill:none;stroke:#1f77b4;stroke-width:1.5;\"/>\r\n    <path clip-path=\"url(#p33c04f888c)\" d=\"M 353.728448 20.724443 \r\nL 359.45514 18.489938 \r\n\" style=\"fill:none;stroke:#1f77b4;stroke-width:1.5;\"/>\r\n    <path clip-path=\"url(#p33c04f888c)\" d=\"M 359.45514 18.489938 \r\nL 366.05619 15.005088 \r\n\" style=\"fill:none;stroke:#1f77b4;stroke-width:1.5;\"/>\r\n    <path clip-path=\"url(#p33c04f888c)\" d=\"M 366.05619 15.005088 \r\nL 370.789631 9.769902 \r\n\" style=\"fill:none;stroke:#1f77b4;stroke-width:1.5;\"/>\r\n    <path clip-path=\"url(#p33c04f888c)\" d=\"M 370.789631 9.769902 \r\nL 370.789631 9.769902 \r\n\" style=\"fill:none;stroke:#1f77b4;stroke-width:1.5;\"/>\r\n   </g>\r\n   <g id=\"patch_3\">\r\n    <path d=\"M 51.207813 63.737844 \r\nL 51.207813 7.2 \r\n\" style=\"fill:none;stroke:#000000;stroke-linecap:square;stroke-linejoin:miter;stroke-width:0.8;\"/>\r\n   </g>\r\n   <g id=\"patch_4\">\r\n    <path d=\"M 386.007812 63.737844 \r\nL 386.007812 7.2 \r\n\" style=\"fill:none;stroke:#000000;stroke-linecap:square;stroke-linejoin:miter;stroke-width:0.8;\"/>\r\n   </g>\r\n   <g id=\"patch_5\">\r\n    <path d=\"M 51.207812 63.737844 \r\nL 386.007812 63.737844 \r\n\" style=\"fill:none;stroke:#000000;stroke-linecap:square;stroke-linejoin:miter;stroke-width:0.8;\"/>\r\n   </g>\r\n   <g id=\"patch_6\">\r\n    <path d=\"M 51.207812 7.2 \r\nL 386.007812 7.2 \r\n\" style=\"fill:none;stroke:#000000;stroke-linecap:square;stroke-linejoin:miter;stroke-width:0.8;\"/>\r\n   </g>\r\n  </g>\r\n </g>\r\n <defs>\r\n  <clipPath id=\"p33c04f888c\">\r\n   <rect height=\"56.537844\" width=\"334.8\" x=\"51.207813\" y=\"7.2\"/>\r\n  </clipPath>\r\n </defs>\r\n</svg>\r\n",
      "image/png": "[encoded data removed]"
     },
     "metadata": {
      "needs_background": "light"
     }
    }
   ],
   "metadata": {}
  }
 ],
 "metadata": {
  "orig_nbformat": 4,
  "language_info": {
   "name": "python",
   "version": "3.8.11",
   "mimetype": "text/x-python",
   "codemirror_mode": {
    "name": "ipython",
    "version": 3
   },
   "pygments_lexer": "ipython3",
   "nbconvert_exporter": "python",
   "file_extension": ".py"
  },
  "kernelspec": {
   "name": "python3",
   "display_name": "Python 3.8.11 64-bit ('fire_spread': conda)"
  },
  "interpreter": {
   "hash": "49eeb424f10bc32e64fbc12e3b5c9329748632aad29f8e25962a1792c43516ff"
  }
 },
 "nbformat": 4,
 "nbformat_minor": 2
}