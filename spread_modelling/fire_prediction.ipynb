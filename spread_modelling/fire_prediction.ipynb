{
 "cells": [
  {
   "cell_type": "code",
   "execution_count": 2,
   "source": [
    "import fire_spread as fs\r\n",
    "import pandas as pd\r\n",
    "import datetime as dt\r\n",
    "\r\n",
    "# DATE = 'Local Date'\r\n",
    "# TIME = 'Local Time'\r\n",
    "# TEMP = 'Temp (C)'\r\n",
    "# RH = 'RH (%)'\r\n",
    "# WIND_DIR = 'Wind Dir'\r\n",
    "# WIND_SPEED = 'Wind Speed (km/h)'\r\n",
    "# DF = 'Drought Factor'\r\n",
    "# FFDI = 'FFDI'\r\n",
    "# GFDI = 'GFDI'\r\n",
    "# DATETIME = 'DateTime'"
   ],
   "outputs": [],
   "metadata": {}
  },
  {
   "cell_type": "code",
   "execution_count": null,
   "source": [
    "# general model settings\r\n",
    "weather_fn = 'data\\TestPointForecast.csv'\r\n",
    "start_date = '20210827'\r\n",
    "start_time = '09:00'\r\n",
    "duration = 24 #hours\r\n",
    "slope = 0 #but note Cruz et al. for large fires slope effect negligible\r\n",
    "\r\n"
   ],
   "outputs": [],
   "metadata": {}
  },
  {
   "cell_type": "code",
   "execution_count": null,
   "source": [
    "\r\n",
    "weather_data = fs.get_weather(weather_fn)\r\n",
    "weather_data = fs.trim_weather(weather_data, start_date, start_time, duration)\r\n",
    "weather_data"
   ],
   "outputs": [],
   "metadata": {}
  },
  {
   "cell_type": "code",
   "execution_count": null,
   "source": [
    "weather_data.dtypes"
   ],
   "outputs": [],
   "metadata": {}
  },
  {
   "cell_type": "code",
   "execution_count": null,
   "source": [
    "start_datetime = start_date + \" \" + start_time\r\n",
    "start_datetime = dt.datetime.strptime(start_datetime,\"%Y%m%d %H:%M\")\r\n",
    "print(start_datetime)"
   ],
   "outputs": [],
   "metadata": {}
  }
 ],
 "metadata": {
  "orig_nbformat": 4,
  "language_info": {
   "name": "python",
   "version": "3.8.11",
   "mimetype": "text/x-python",
   "codemirror_mode": {
    "name": "ipython",
    "version": 3
   },
   "pygments_lexer": "ipython3",
   "nbconvert_exporter": "python",
   "file_extension": ".py"
  },
  "kernelspec": {
   "name": "python3",
   "display_name": "Python 3.8.11 64-bit ('fire_spread': conda)"
  },
  "interpreter": {
   "hash": "49eeb424f10bc32e64fbc12e3b5c9329748632aad29f8e25962a1792c43516ff"
  }
 },
 "nbformat": 4,
 "nbformat_minor": 2
}